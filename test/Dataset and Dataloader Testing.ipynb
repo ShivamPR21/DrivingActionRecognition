{
 "cells": [
  {
   "cell_type": "code",
   "execution_count": 1,
   "id": "7aaff294",
   "metadata": {},
   "outputs": [],
   "source": [
    "%load_ext autoreload\n",
    "%autoreload 2"
   ]
  },
  {
   "cell_type": "code",
   "execution_count": 2,
   "id": "130cf11f",
   "metadata": {},
   "outputs": [],
   "source": [
    "# import pandas as pd\n",
    "import numpy as np\n",
    "import matplotlib.pyplot as plt\n",
    "from PIL import Image\n",
    "from fractions import Fraction\n",
    "import os\n",
    "from torch.utils.data import DataLoader"
   ]
  },
  {
   "cell_type": "code",
   "execution_count": 7,
   "id": "a8bdde1d",
   "metadata": {},
   "outputs": [],
   "source": [
    "from dartorch.data import DARDatasetOnVideos"
   ]
  },
  {
   "cell_type": "code",
   "execution_count": 8,
   "id": "d29dfd37",
   "metadata": {},
   "outputs": [
    {
     "name": "stdout",
     "output_type": "stream",
     "text": [
      "user_id_35133/session_0\n",
      "user_id_35133/session_2\n",
      "user_id_38058/session_1\n",
      "user_id_38058/session_0\n",
      "user_id_24491/session_1\n",
      "user_id_24491/session_0\n"
     ]
    }
   ],
   "source": [
    "dataset = DARDatasetOnVideos(\n",
    "    \"/home/shivam/2021-22-2/ML4CE/Project/datasets/2022/A1\",\n",
    "    test_user_ids=[\"user_id_49381\", \"user_id_24026\"],\n",
    "    load_reader_instances=True,\n",
    "    mode=\"train\",\n",
    "    shuffle_views=False,\n",
    ")"
   ]
  },
  {
   "cell_type": "code",
   "execution_count": 11,
   "id": "5a5cafc9",
   "metadata": {},
   "outputs": [],
   "source": [
    "dataloader = DataLoader(dataset, batch_size=32, shuffle=False, num_workers=4)"
   ]
  },
  {
   "cell_type": "code",
   "execution_count": 13,
   "id": "8e3544b4",
   "metadata": {},
   "outputs": [
    {
     "name": "stdout",
     "output_type": "stream",
     "text": [
      "batch number 1\n",
      "torch.Size([2, 15, 256, 256]) torch.Size([2])\n"
     ]
    }
   ],
   "source": [
    "labels = []\n",
    "for i, (data, labels) in enumerate(dataloader):\n",
    "    print(f\"batch number {i+1}\")\n",
    "    print(data.shape, labels.shape)\n",
    "    break"
   ]
  },
  {
   "cell_type": "code",
   "execution_count": 17,
   "id": "9e8dced5",
   "metadata": {},
   "outputs": [],
   "source": [
    "import torch"
   ]
  },
  {
   "cell_type": "code",
   "execution_count": 4,
   "id": "337fc6f1",
   "metadata": {},
   "outputs": [],
   "source": [
    "image = Image.open(\n",
    "    \"/home/shivampr21/AI-City/A1/A1/cls_data/0/0/user_id_24026_session_3_2070.png\"\n",
    ")"
   ]
  },
  {
   "cell_type": "code",
   "execution_count": 18,
   "id": "48d0552b",
   "metadata": {},
   "outputs": [
    {
     "data": {
      "text/plain": [
       "torch.Size([1, 16, 16])"
      ]
     },
     "execution_count": 18,
     "metadata": {},
     "output_type": "execute_result"
    }
   ],
   "source": [
    "torch.from_numpy(np.array(image.resize((16, 16)))).unsqueeze(dim=0).size()"
   ]
  },
  {
   "cell_type": "code",
   "execution_count": 23,
   "id": "39fd9fcf",
   "metadata": {},
   "outputs": [],
   "source": [
    "t = tuple(i for i in range(10))"
   ]
  },
  {
   "cell_type": "code",
   "execution_count": 25,
   "id": "2c580be5",
   "metadata": {},
   "outputs": [
    {
     "name": "stdout",
     "output_type": "stream",
     "text": [
      "0 1 2 3 4 5 6 7 8 9\n"
     ]
    }
   ],
   "source": [
    "print(*t)"
   ]
  },
  {
   "cell_type": "code",
   "execution_count": null,
   "id": "96d92afc",
   "metadata": {},
   "outputs": [],
   "source": []
  }
 ],
 "metadata": {
  "kernelspec": {
   "display_name": "Python 3 (ipykernel)",
   "language": "python",
   "name": "python3"
  },
  "language_info": {
   "codemirror_mode": {
    "name": "ipython",
    "version": 3
   },
   "file_extension": ".py",
   "mimetype": "text/x-python",
   "name": "python",
   "nbconvert_exporter": "python",
   "pygments_lexer": "ipython3",
   "version": "3.10.6"
  }
 },
 "nbformat": 4,
 "nbformat_minor": 5
}
