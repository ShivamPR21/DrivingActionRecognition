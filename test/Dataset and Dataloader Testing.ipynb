{
 "cells": [
  {
   "cell_type": "code",
   "execution_count": 5,
   "id": "7aaff294",
   "metadata": {},
   "outputs": [
    {
     "name": "stdout",
     "output_type": "stream",
     "text": [
      "The autoreload extension is already loaded. To reload it, use:\n",
      "  %reload_ext autoreload\n"
     ]
    }
   ],
   "source": [
    "%load_ext autoreload\n",
    "%autoreload 2"
   ]
  },
  {
   "cell_type": "code",
   "execution_count": 6,
   "id": "130cf11f",
   "metadata": {},
   "outputs": [],
   "source": [
    "import pandas as pd\n",
    "import numpy as np\n",
    "import matplotlib.pyplot as plt\n",
    "from PIL import Image\n",
    "from fractions import Fraction\n",
    "import os\n",
    "from torch.utils.data import DataLoader"
   ]
  },
  {
   "cell_type": "code",
   "execution_count": 7,
   "id": "a8bdde1d",
   "metadata": {},
   "outputs": [],
   "source": [
    "from dartorch.data import DARDatasetOnVideos"
   ]
  },
  {
   "cell_type": "code",
   "execution_count": 8,
   "id": "d29dfd37",
   "metadata": {},
   "outputs": [
    {
     "name": "stdout",
     "output_type": "stream",
     "text": [
      "user_id_35133/session_0\n",
      "user_id_35133/session_2\n",
      "user_id_38058/session_1\n",
      "user_id_38058/session_0\n",
      "user_id_24491/session_1\n",
      "user_id_24491/session_0\n"
     ]
    }
   ],
   "source": [
    "dataset = DARDatasetOnVideos('/home/shivam/2021-22-2/ML4CE/Project/datasets/2022/A1', test_user_ids = [\"user_id_49381\", \"user_id_24026\"], load_reader_instances = True, mode='train', shuffle_views=False)"
   ]
  },
  {
   "cell_type": "code",
   "execution_count": 11,
   "id": "5a5cafc9",
   "metadata": {},
   "outputs": [],
   "source": [
    "dataloader = DataLoader(dataset, batch_size = 32, shuffle=False, num_workers=4)"
   ]
  },
  {
   "cell_type": "code",
   "execution_count": 13,
   "id": "8e3544b4",
   "metadata": {},
   "outputs": [
    {
     "name": "stdout",
     "output_type": "stream",
     "text": [
      "batch number 1\n",
      "torch.Size([2, 15, 256, 256]) torch.Size([2])\n"
     ]
    }
   ],
   "source": [
    "labels = []\n",
    "for i, (data, labels) in enumerate(dataloader):\n",
    "    print(f'batch number {i+1}')\n",
    "    print(data.shape, labels.shape)\n",
    "    break"
   ]
  },
  {
   "cell_type": "code",
   "execution_count": 12,
   "id": "9e8dced5",
   "metadata": {},
   "outputs": [
    {
     "data": {
      "text/plain": [
       "4"
      ]
     },
     "execution_count": 12,
     "metadata": {},
     "output_type": "execute_result"
    }
   ],
   "source": [
    "len(dataloader)"
   ]
  },
  {
   "cell_type": "code",
   "execution_count": null,
   "id": "337fc6f1",
   "metadata": {},
   "outputs": [],
   "source": []
  }
 ],
 "metadata": {
  "kernelspec": {
   "display_name": "Python 3 (ipykernel)",
   "language": "python",
   "name": "python3"
  },
  "language_info": {
   "codemirror_mode": {
    "name": "ipython",
    "version": 3
   },
   "file_extension": ".py",
   "mimetype": "text/x-python",
   "name": "python",
   "nbconvert_exporter": "python",
   "pygments_lexer": "ipython3",
   "version": "3.8.10"
  }
 },
 "nbformat": 4,
 "nbformat_minor": 5
}
